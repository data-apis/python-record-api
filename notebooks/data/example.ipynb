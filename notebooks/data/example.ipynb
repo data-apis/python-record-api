{
 "cells": [
  {
   "cell_type": "code",
   "execution_count": 1,
   "metadata": {},
   "outputs": [],
   "source": [
    "import numpy as np"
   ]
  },
  {
   "cell_type": "code",
   "execution_count": 2,
   "metadata": {},
   "outputs": [],
   "source": [
    "import pandas as pd"
   ]
  },
  {
   "cell_type": "code",
   "execution_count": 3,
   "metadata": {},
   "outputs": [],
   "source": [
    "s = pd.Series([1, 3, 5, np.nan, 6, 8])"
   ]
  },
  {
   "cell_type": "code",
   "execution_count": 4,
   "metadata": {},
   "outputs": [],
   "source": [
    "dates = pd.date_range(\"20130101\", periods=6)"
   ]
  },
  {
   "cell_type": "code",
   "execution_count": 5,
   "metadata": {},
   "outputs": [],
   "source": [
    "df = pd.DataFrame(np.random.randn(6, 4), index=dates, columns=list(\"ABCD\"))"
   ]
  },
  {
   "cell_type": "code",
   "execution_count": 6,
   "metadata": {},
   "outputs": [],
   "source": [
    "df2 = pd.DataFrame(\n",
    "        {\n",
    "            \"A\": 1.0,\n",
    "            \"B\": pd.Timestamp(\"20130102\"),\n",
    "            \"C\": pd.Series(1, index=list(range(4)), dtype=\"float32\"),\n",
    "            \"D\": np.array([3] * 4, dtype=\"int32\"),\n",
    "            \"E\": pd.Categorical([\"test\", \"train\", \"test\", \"train\"]),\n",
    "            \"F\": \"foo\",\n",
    "        }\n",
    ")"
   ]
  },
  {
   "cell_type": "code",
   "execution_count": 8,
   "metadata": {},
   "outputs": [
    {
     "data": {
      "text/html": [
       "<div>\n",
       "<style scoped>\n",
       "    .dataframe tbody tr th:only-of-type {\n",
       "        vertical-align: middle;\n",
       "    }\n",
       "\n",
       "    .dataframe tbody tr th {\n",
       "        vertical-align: top;\n",
       "    }\n",
       "\n",
       "    .dataframe thead th {\n",
       "        text-align: right;\n",
       "    }\n",
       "</style>\n",
       "<table border=\"1\" class=\"dataframe\">\n",
       "  <thead>\n",
       "    <tr style=\"text-align: right;\">\n",
       "      <th></th>\n",
       "      <th>A</th>\n",
       "      <th>B</th>\n",
       "      <th>C</th>\n",
       "      <th>D</th>\n",
       "    </tr>\n",
       "  </thead>\n",
       "  <tbody>\n",
       "    <tr>\n",
       "      <th>2013-01-01</th>\n",
       "      <td>-0.328603</td>\n",
       "      <td>-0.366380</td>\n",
       "      <td>-0.619592</td>\n",
       "      <td>-2.822423</td>\n",
       "    </tr>\n",
       "    <tr>\n",
       "      <th>2013-01-02</th>\n",
       "      <td>-0.427067</td>\n",
       "      <td>0.317282</td>\n",
       "      <td>-0.938094</td>\n",
       "      <td>-0.148115</td>\n",
       "    </tr>\n",
       "    <tr>\n",
       "      <th>2013-01-03</th>\n",
       "      <td>-3.012013</td>\n",
       "      <td>-0.535066</td>\n",
       "      <td>0.790945</td>\n",
       "      <td>0.209057</td>\n",
       "    </tr>\n",
       "    <tr>\n",
       "      <th>2013-01-04</th>\n",
       "      <td>0.762696</td>\n",
       "      <td>0.243109</td>\n",
       "      <td>1.879514</td>\n",
       "      <td>1.108437</td>\n",
       "    </tr>\n",
       "    <tr>\n",
       "      <th>2013-01-05</th>\n",
       "      <td>-0.402783</td>\n",
       "      <td>-0.876177</td>\n",
       "      <td>-0.093985</td>\n",
       "      <td>0.367029</td>\n",
       "    </tr>\n",
       "  </tbody>\n",
       "</table>\n",
       "</div>"
      ],
      "text/plain": [
       "                   A         B         C         D\n",
       "2013-01-01 -0.328603 -0.366380 -0.619592 -2.822423\n",
       "2013-01-02 -0.427067  0.317282 -0.938094 -0.148115\n",
       "2013-01-03 -3.012013 -0.535066  0.790945  0.209057\n",
       "2013-01-04  0.762696  0.243109  1.879514  1.108437\n",
       "2013-01-05 -0.402783 -0.876177 -0.093985  0.367029"
      ]
     },
     "execution_count": 8,
     "metadata": {},
     "output_type": "execute_result"
    }
   ],
   "source": [
    "df.head()"
   ]
  },
  {
   "cell_type": "code",
   "execution_count": 9,
   "metadata": {},
   "outputs": [
    {
     "data": {
      "text/html": [
       "<div>\n",
       "<style scoped>\n",
       "    .dataframe tbody tr th:only-of-type {\n",
       "        vertical-align: middle;\n",
       "    }\n",
       "\n",
       "    .dataframe tbody tr th {\n",
       "        vertical-align: top;\n",
       "    }\n",
       "\n",
       "    .dataframe thead th {\n",
       "        text-align: right;\n",
       "    }\n",
       "</style>\n",
       "<table border=\"1\" class=\"dataframe\">\n",
       "  <thead>\n",
       "    <tr style=\"text-align: right;\">\n",
       "      <th></th>\n",
       "      <th>A</th>\n",
       "      <th>B</th>\n",
       "      <th>C</th>\n",
       "      <th>D</th>\n",
       "    </tr>\n",
       "  </thead>\n",
       "  <tbody>\n",
       "    <tr>\n",
       "      <th>2013-01-04</th>\n",
       "      <td>0.762696</td>\n",
       "      <td>0.243109</td>\n",
       "      <td>1.879514</td>\n",
       "      <td>1.108437</td>\n",
       "    </tr>\n",
       "    <tr>\n",
       "      <th>2013-01-05</th>\n",
       "      <td>-0.402783</td>\n",
       "      <td>-0.876177</td>\n",
       "      <td>-0.093985</td>\n",
       "      <td>0.367029</td>\n",
       "    </tr>\n",
       "    <tr>\n",
       "      <th>2013-01-06</th>\n",
       "      <td>-1.049293</td>\n",
       "      <td>0.837073</td>\n",
       "      <td>1.210975</td>\n",
       "      <td>-1.206224</td>\n",
       "    </tr>\n",
       "  </tbody>\n",
       "</table>\n",
       "</div>"
      ],
      "text/plain": [
       "                   A         B         C         D\n",
       "2013-01-04  0.762696  0.243109  1.879514  1.108437\n",
       "2013-01-05 -0.402783 -0.876177 -0.093985  0.367029\n",
       "2013-01-06 -1.049293  0.837073  1.210975 -1.206224"
      ]
     },
     "execution_count": 9,
     "metadata": {},
     "output_type": "execute_result"
    }
   ],
   "source": [
    "df.tail(3)"
   ]
  },
  {
   "cell_type": "code",
   "execution_count": 10,
   "metadata": {},
   "outputs": [
    {
     "data": {
      "text/plain": [
       "DatetimeIndex(['2013-01-01', '2013-01-02', '2013-01-03', '2013-01-04',\n",
       "               '2013-01-05', '2013-01-06'],\n",
       "              dtype='datetime64[ns]', freq='D')"
      ]
     },
     "execution_count": 10,
     "metadata": {},
     "output_type": "execute_result"
    }
   ],
   "source": [
    "df.index"
   ]
  },
  {
   "cell_type": "code",
   "execution_count": 11,
   "metadata": {},
   "outputs": [
    {
     "data": {
      "text/plain": [
       "Index(['A', 'B', 'C', 'D'], dtype='object')"
      ]
     },
     "execution_count": 11,
     "metadata": {},
     "output_type": "execute_result"
    }
   ],
   "source": [
    "df.columns"
   ]
  },
  {
   "cell_type": "code",
   "execution_count": 12,
   "metadata": {},
   "outputs": [
    {
     "data": {
      "text/plain": [
       "array([[-0.32860292, -0.36637983, -0.61959229, -2.82242287],\n",
       "       [-0.42706726,  0.3172823 , -0.93809362, -0.14811456],\n",
       "       [-3.01201345, -0.53506589,  0.79094519,  0.20905686],\n",
       "       [ 0.76269556,  0.24310942,  1.87951383,  1.10843652],\n",
       "       [-0.40278323, -0.87617667, -0.09398487,  0.3670287 ],\n",
       "       [-1.04929264,  0.8370728 ,  1.21097545, -1.20622421]])"
      ]
     },
     "execution_count": 12,
     "metadata": {},
     "output_type": "execute_result"
    }
   ],
   "source": [
    "df.to_numpy()"
   ]
  },
  {
   "cell_type": "code",
   "execution_count": 13,
   "metadata": {},
   "outputs": [
    {
     "data": {
      "text/html": [
       "<div>\n",
       "<style scoped>\n",
       "    .dataframe tbody tr th:only-of-type {\n",
       "        vertical-align: middle;\n",
       "    }\n",
       "\n",
       "    .dataframe tbody tr th {\n",
       "        vertical-align: top;\n",
       "    }\n",
       "\n",
       "    .dataframe thead th {\n",
       "        text-align: right;\n",
       "    }\n",
       "</style>\n",
       "<table border=\"1\" class=\"dataframe\">\n",
       "  <thead>\n",
       "    <tr style=\"text-align: right;\">\n",
       "      <th></th>\n",
       "      <th>A</th>\n",
       "      <th>B</th>\n",
       "      <th>C</th>\n",
       "      <th>D</th>\n",
       "    </tr>\n",
       "  </thead>\n",
       "  <tbody>\n",
       "    <tr>\n",
       "      <th>count</th>\n",
       "      <td>6.000000</td>\n",
       "      <td>6.000000</td>\n",
       "      <td>6.000000</td>\n",
       "      <td>6.000000</td>\n",
       "    </tr>\n",
       "    <tr>\n",
       "      <th>mean</th>\n",
       "      <td>-0.742844</td>\n",
       "      <td>-0.063360</td>\n",
       "      <td>0.371627</td>\n",
       "      <td>-0.415373</td>\n",
       "    </tr>\n",
       "    <tr>\n",
       "      <th>std</th>\n",
       "      <td>1.256713</td>\n",
       "      <td>0.636332</td>\n",
       "      <td>1.101702</td>\n",
       "      <td>1.401058</td>\n",
       "    </tr>\n",
       "    <tr>\n",
       "      <th>min</th>\n",
       "      <td>-3.012013</td>\n",
       "      <td>-0.876177</td>\n",
       "      <td>-0.938094</td>\n",
       "      <td>-2.822423</td>\n",
       "    </tr>\n",
       "    <tr>\n",
       "      <th>25%</th>\n",
       "      <td>-0.893736</td>\n",
       "      <td>-0.492894</td>\n",
       "      <td>-0.488190</td>\n",
       "      <td>-0.941697</td>\n",
       "    </tr>\n",
       "    <tr>\n",
       "      <th>50%</th>\n",
       "      <td>-0.414925</td>\n",
       "      <td>-0.061635</td>\n",
       "      <td>0.348480</td>\n",
       "      <td>0.030471</td>\n",
       "    </tr>\n",
       "    <tr>\n",
       "      <th>75%</th>\n",
       "      <td>-0.347148</td>\n",
       "      <td>0.298739</td>\n",
       "      <td>1.105968</td>\n",
       "      <td>0.327536</td>\n",
       "    </tr>\n",
       "    <tr>\n",
       "      <th>max</th>\n",
       "      <td>0.762696</td>\n",
       "      <td>0.837073</td>\n",
       "      <td>1.879514</td>\n",
       "      <td>1.108437</td>\n",
       "    </tr>\n",
       "  </tbody>\n",
       "</table>\n",
       "</div>"
      ],
      "text/plain": [
       "              A         B         C         D\n",
       "count  6.000000  6.000000  6.000000  6.000000\n",
       "mean  -0.742844 -0.063360  0.371627 -0.415373\n",
       "std    1.256713  0.636332  1.101702  1.401058\n",
       "min   -3.012013 -0.876177 -0.938094 -2.822423\n",
       "25%   -0.893736 -0.492894 -0.488190 -0.941697\n",
       "50%   -0.414925 -0.061635  0.348480  0.030471\n",
       "75%   -0.347148  0.298739  1.105968  0.327536\n",
       "max    0.762696  0.837073  1.879514  1.108437"
      ]
     },
     "execution_count": 13,
     "metadata": {},
     "output_type": "execute_result"
    }
   ],
   "source": [
    "df.describe()"
   ]
  },
  {
   "cell_type": "code",
   "execution_count": 14,
   "metadata": {},
   "outputs": [
    {
     "data": {
      "text/html": [
       "<div>\n",
       "<style scoped>\n",
       "    .dataframe tbody tr th:only-of-type {\n",
       "        vertical-align: middle;\n",
       "    }\n",
       "\n",
       "    .dataframe tbody tr th {\n",
       "        vertical-align: top;\n",
       "    }\n",
       "\n",
       "    .dataframe thead th {\n",
       "        text-align: right;\n",
       "    }\n",
       "</style>\n",
       "<table border=\"1\" class=\"dataframe\">\n",
       "  <thead>\n",
       "    <tr style=\"text-align: right;\">\n",
       "      <th></th>\n",
       "      <th>D</th>\n",
       "      <th>C</th>\n",
       "      <th>B</th>\n",
       "      <th>A</th>\n",
       "    </tr>\n",
       "  </thead>\n",
       "  <tbody>\n",
       "    <tr>\n",
       "      <th>2013-01-01</th>\n",
       "      <td>-2.822423</td>\n",
       "      <td>-0.619592</td>\n",
       "      <td>-0.366380</td>\n",
       "      <td>-0.328603</td>\n",
       "    </tr>\n",
       "    <tr>\n",
       "      <th>2013-01-02</th>\n",
       "      <td>-0.148115</td>\n",
       "      <td>-0.938094</td>\n",
       "      <td>0.317282</td>\n",
       "      <td>-0.427067</td>\n",
       "    </tr>\n",
       "    <tr>\n",
       "      <th>2013-01-03</th>\n",
       "      <td>0.209057</td>\n",
       "      <td>0.790945</td>\n",
       "      <td>-0.535066</td>\n",
       "      <td>-3.012013</td>\n",
       "    </tr>\n",
       "    <tr>\n",
       "      <th>2013-01-04</th>\n",
       "      <td>1.108437</td>\n",
       "      <td>1.879514</td>\n",
       "      <td>0.243109</td>\n",
       "      <td>0.762696</td>\n",
       "    </tr>\n",
       "    <tr>\n",
       "      <th>2013-01-05</th>\n",
       "      <td>0.367029</td>\n",
       "      <td>-0.093985</td>\n",
       "      <td>-0.876177</td>\n",
       "      <td>-0.402783</td>\n",
       "    </tr>\n",
       "    <tr>\n",
       "      <th>2013-01-06</th>\n",
       "      <td>-1.206224</td>\n",
       "      <td>1.210975</td>\n",
       "      <td>0.837073</td>\n",
       "      <td>-1.049293</td>\n",
       "    </tr>\n",
       "  </tbody>\n",
       "</table>\n",
       "</div>"
      ],
      "text/plain": [
       "                   D         C         B         A\n",
       "2013-01-01 -2.822423 -0.619592 -0.366380 -0.328603\n",
       "2013-01-02 -0.148115 -0.938094  0.317282 -0.427067\n",
       "2013-01-03  0.209057  0.790945 -0.535066 -3.012013\n",
       "2013-01-04  1.108437  1.879514  0.243109  0.762696\n",
       "2013-01-05  0.367029 -0.093985 -0.876177 -0.402783\n",
       "2013-01-06 -1.206224  1.210975  0.837073 -1.049293"
      ]
     },
     "execution_count": 14,
     "metadata": {},
     "output_type": "execute_result"
    }
   ],
   "source": [
    "df.sort_index(axis=1, ascending=False)"
   ]
  },
  {
   "cell_type": "code",
   "execution_count": null,
   "metadata": {},
   "outputs": [],
   "source": []
  }
 ],
 "metadata": {
  "kernelspec": {
   "display_name": "Python 3",
   "language": "python",
   "name": "python3"
  },
  "language_info": {
   "codemirror_mode": {
    "name": "ipython",
    "version": 3
   },
   "file_extension": ".py",
   "mimetype": "text/x-python",
   "name": "python",
   "nbconvert_exporter": "python",
   "pygments_lexer": "ipython3",
   "version": "3.8.6"
  }
 },
 "nbformat": 4,
 "nbformat_minor": 4
}
